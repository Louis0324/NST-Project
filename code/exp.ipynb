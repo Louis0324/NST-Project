{
 "cells": [
  {
   "cell_type": "code",
   "execution_count": 1,
   "metadata": {},
   "outputs": [
    {
     "name": "stderr",
     "output_type": "stream",
     "text": [
      "/home/louis/anaconda3/envs/NST/lib/python3.11/site-packages/tqdm/auto.py:21: TqdmWarning: IProgress not found. Please update jupyter and ipywidgets. See https://ipywidgets.readthedocs.io/en/stable/user_install.html\n",
      "  from .autonotebook import tqdm as notebook_tqdm\n"
     ]
    }
   ],
   "source": [
    "import torch\n",
    "from encoder import *"
   ]
  },
  {
   "cell_type": "code",
   "execution_count": 3,
   "metadata": {},
   "outputs": [
    {
     "name": "stdout",
     "output_type": "stream",
     "text": [
      "torch.Size([4, 1025, 768])\n",
      "torch.Size([1, 1025, 768])\n"
     ]
    }
   ],
   "source": [
    "model = ViTModel.from_pretrained('google/vit-base-patch16-224-in21k')\n",
    "model = ModifyLayers(model, 6)\n",
    "lora_config = LoraConfig(\n",
    "        r=16,\n",
    "        lora_alpha=16,\n",
    "        target_modules=[\"query\", \"value\", \"key\"],\n",
    "        lora_dropout=0.1,\n",
    "        bias=\"none\",\n",
    "    )\n",
    "lora_model = get_peft_model(model, peft_config=lora_config)\n",
    "imag = torch.abs(torch.rand(4, 3, 512, 512))\n",
    "out = lora_model(imag, interpolate_pos_encoding=True).last_hidden_state\n",
    "print(out.shape)\n",
    "print(lora_model.embeddings.interpolate_pos_encoding(out, 512, 512).shape)"
   ]
  }
 ],
 "metadata": {
  "kernelspec": {
   "display_name": "NST",
   "language": "python",
   "name": "python3"
  },
  "language_info": {
   "codemirror_mode": {
    "name": "ipython",
    "version": 3
   },
   "file_extension": ".py",
   "mimetype": "text/x-python",
   "name": "python",
   "nbconvert_exporter": "python",
   "pygments_lexer": "ipython3",
   "version": "3.11.5"
  }
 },
 "nbformat": 4,
 "nbformat_minor": 2
}
